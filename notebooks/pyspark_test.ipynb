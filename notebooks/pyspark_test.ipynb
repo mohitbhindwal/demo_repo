{
 "cells": [
  {
   "cell_type": "markdown",
   "metadata": {
    "autoscroll": false
   },
   "source": [
    "<ul style=\"list-style-type:circle;font-size:14px;line-height:27px;\">\n",
    "    <li><b>spark._jvm.com.streamanalytix.notebook.spark.SAXSparkSession:</b> Load the StreamAnalytix API.</li>\n",
    "\n",
    "<li><b>SAXSparkSession:</b> Creates a StreamAnalytix session.\n",
    "    <ul>\n",
    "        <li>\n",
    "    <b>SAXSparkSession.getSession(SparkSession spark._jsparkSession) - Static Method:</b>  This method takes the Java equivalent of PySpark Session as an input parameter.</li>\n",
    "\n",
    "<li><b>SAXSparkSessionObject.getDataSet(String sourceName):</b> This method makes the source dataset available to the user. <i>sourceName</i> parameter is the name provided during the notebook creation step within StreamAnalytix</li>\n",
    "\n",
    "<li><b>SAXSparkSessionObject.saveModel(Object modelObject._to_java(), String modelName, String modelApi, String modelAlgo, String modelType, Boolean isPipelineModel):</b> This method lets the user register the trained model with StreamAnalytix. This model can than be used for training and/or scoring purpose as part of the StreamAnalytix pipeline.\n",
    "\t<ul>\n",
    "\t\t<li><b>modelObject._to_java():</b> Java equivalent object of the trained pyspark model.</li>\n",
    "\t\t<li><b>modelName:</b> Name of the model. Accepted String value only. e.g. <i>\"DecisionTreeModel\"</i></li>\n",
    "\t\t<li><b>modelApi:</b> API to be used for model creation. Possible values - <i>\"ML\" / \"H2O\"</i>.</li>\n",
    "\t\t<li><b>modelAlgo:</b> Only for ML model API. Specifies algorithm for the selected Model Type. Required for following ML model types - DecisionTree, GradientBoostedTrees and RandomForest. Possible values - <i>\"Classification\" / \"Regression\"</i></li>\n",
    "\t\t<li><b>modelType:</b> Types of models supported for the chosen API.\n",
    "\t\t\t<ul>\n",
    "\t\t\t\t<li>For ML, possible values are : <i>\"DecisionTree\" / \"GradientBoostedTrees\" / \"IsotonicRegression\" / \"KMeans\" / \"LinearRegression\" / \"LogisticRegression\" / \"NaiveBayes\" / \"RandomForest\"</i></li>\n",
    "\t\t\t\t<li>For H2O, possible values are: <i>\"KMeans\" / \"NaiveBayes\" / \"DeepLearning\" / \"DistributedRandomForest\" / \"GradientBoostingMachine\" / \"GeneralizedLinearModelling\"</i></li>\n",
    "\t\t\t</ul>\n",
    "\t\t</li>\n",
    "\t\t<li><b>isPipelineModel:</b> Only for ML model API. It specifies If model is trained using Spark ML Pipeline API. Possible values - <i>true / false</i></li>\n",
    "\t</ul>\n",
    "</li>\n",
    "</ul>\n",
    "</li>\n",
    "</ul>"
   ]
  },
  {
   "cell_type": "code",
   "execution_count": 1,
   "metadata": {
    "autoscroll": false,
    "collapsed": false,
    "jupyter": {
     "outputs_hidden": false
    }
   },
   "outputs": [
    {
     "name": "stdout",
     "output_type": "stream",
     "text": [
      "Starting Spark application\n"
     ]
    },
    {
     "data": {
      "text/html": [
       "<table>\n",
       "<tr><th>ID</th><th>YARN Application ID</th><th>Kind</th><th>State</th><th>Spark UI</th><th>Driver log</th><th>Current session?</th></tr><tr><td>5633</td><td>application_1599478045800_0487</td><td>pyspark</td><td>idle</td><td><a target=\"_blank\" href=\"http://emma.us.impetus.com:8088/proxy/application_1599478045800_0487/\">Link</a></td><td><a target=\"_blank\" href=\"http://beth.us.impetus.com:8042/node/containerlogs/container_e90_1599478045800_0487_01_000001/livy\">Link</a></td><td>✔</td></tr></table>"
      ],
      "text/plain": [
       "<IPython.core.display.HTML object>"
      ]
     },
     "metadata": {},
     "output_type": "display_data"
    },
    {
     "name": "stdout",
     "output_type": "stream",
     "text": [
      "SparkSession available as 'spark'.\n"
     ]
    }
   ],
   "source": [
    "from pyspark.sql.dataframe import DataFrame\n",
    "sax = spark._jvm.com.streamanalytix.notebook.spark.SAXSparkSession.getSession(spark._jsparkSession)\n",
    "\n",
    "ds_fern_test_pyspark = DataFrame(sax.getDataSet(\"fern_test_pyspark\"), spark)"
   ]
  },
  {
   "cell_type": "code",
   "execution_count": null,
   "metadata": {},
   "outputs": [],
   "source": []
  }
 ],
 "metadata": {
  "autoplay": {
   "autoRun": true
  },
  "kernelspec": {
   "display_name": "PySpark",
   "language": "",
   "name": "pysparkkernel"
  },
  "language_info": {
   "codemirror_mode": {
    "name": "python",
    "version": 2
   },
   "mimetype": "text/x-python",
   "name": "pyspark",
   "pygments_lexer": "python2"
  }
 },
 "nbformat": 4,
 "nbformat_minor": 4
}
